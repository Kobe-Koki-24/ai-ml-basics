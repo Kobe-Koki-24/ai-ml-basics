{
 "cells": [
  {
   "cell_type": "code",
   "execution_count": null,
   "id": "14def658",
   "metadata": {},
   "outputs": [],
   "source": [
    "import pandas as pd"
   ]
  },
  {
   "cell_type": "code",
   "execution_count": 122,
   "id": "19b7e0aa",
   "metadata": {},
   "outputs": [],
   "source": [
    "# Sample data creation, Dataframe creation\n",
    "datta = {\n",
    "    'Name': ['Alice', 'Bob', 'Charlie', 'David', 'Emma', 'Frank', 'Grace', 'Henry', 'Isabella', 'Jack',\n",
    "             'Katherine', 'Liam', 'Mia', 'Noah', 'Olivia', 'Peter', 'Quinn', 'Rachel', 'Samuel', 'Taylor',\n",
    "             'Uma', 'Victor', 'Wendy', 'Xavier', 'Yara', 'Zachary', 'Sophia', 'James', 'Luna', 'Ethan'],\n",
    "    'Age': [60, 50, 27, 45, 32, 29, 38, 55, 24, 41, \n",
    "            33, 26, 31, 28, 35, 47, 22, 39, 52, 30, \n",
    "            36, 43, 25, 48, 23, 34, 31, 57, 20, 44],\n",
    "    'City': ['New York', 'Los Angeles', 'Chicago', 'Houston', 'Miami', 'Tokyo', 'Sydney', 'Berlin', 'Rome', 'Dubai',\n",
    "             'Singapore', 'London', 'Manchester', 'Birmingham', 'Liverpool', 'Moscow', 'Vienna', 'Prague', 'Athens', 'Lisbon',\n",
    "             'Cairo', 'Bangkok', 'Stockholm', 'Brussels', 'Oslo', 'Warsaw', 'Budapest', 'Dublin', 'Helsinki', 'Zurich'],\n",
    "    'Country': ['USA', 'USA', 'USA', 'USA', 'USA', 'Japan', 'Australia', 'Germany', 'Italy', 'UAE',\n",
    "                'Singapore', 'UK', 'UK', 'UK', 'UK', 'Russia', 'Austria', 'Czech Republic', 'Greece', 'Portugal',\n",
    "                'Egypt', 'Thailand', 'Sweden', 'Belgium', 'Norway', 'Poland', 'Hungary', 'Ireland', 'Finland', 'Switzerland'],\n",
    "'Address': ['123 Main St', '456 Oak St', '789 Pine St', '101 Maple St', '202 Birch St', \n",
    "            '303 Cedar St', '', '505 Spruce St', '606 Willow St', '707 Ash St',\n",
    "            '808 Cherry St', '909 Poplar St', '111 Walnut St', '222 Chestnut St', '333 Magnolia St',\n",
    "            '444 Redwood St', '555 Sequoia St', '666 Palm St', '777 Cypress St', '888 Fir St',\n",
    "            '999 Hemlock St', '1110 Juniper St', '', '1312 Beech St', '1413 Sycamore St',\n",
    "            '1514 Dogwood St', '1615 Hickory St', '1716 Locust St', '', '1918 Pecan St']\n",
    "}"
   ]
  },
  {
   "cell_type": "code",
   "execution_count": 123,
   "id": "138733d2",
   "metadata": {},
   "outputs": [],
   "source": [
    "df = pd.DataFrame(datta) # DataFrame creation"
   ]
  },
  {
   "cell_type": "code",
   "execution_count": 124,
   "id": "5858edc1",
   "metadata": {},
   "outputs": [
    {
     "name": "stdout",
     "output_type": "stream",
     "text": [
      "         Name  Age         City         Country           Address\n",
      "0       Alice   60     New York             USA       123 Main St\n",
      "1         Bob   50  Los Angeles             USA        456 Oak St\n",
      "2     Charlie   27      Chicago             USA       789 Pine St\n",
      "3       David   45      Houston             USA      101 Maple St\n",
      "4        Emma   32        Miami             USA      202 Birch St\n",
      "5       Frank   29        Tokyo           Japan      303 Cedar St\n",
      "6       Grace   38       Sydney       Australia                  \n",
      "7       Henry   55       Berlin         Germany     505 Spruce St\n",
      "8    Isabella   24         Rome           Italy     606 Willow St\n",
      "9        Jack   41        Dubai             UAE        707 Ash St\n",
      "10  Katherine   33    Singapore       Singapore     808 Cherry St\n",
      "11       Liam   26       London              UK     909 Poplar St\n",
      "12        Mia   31   Manchester              UK     111 Walnut St\n",
      "13       Noah   28   Birmingham              UK   222 Chestnut St\n",
      "14     Olivia   35    Liverpool              UK   333 Magnolia St\n",
      "15      Peter   47       Moscow          Russia    444 Redwood St\n",
      "16      Quinn   22       Vienna         Austria    555 Sequoia St\n",
      "17     Rachel   39       Prague  Czech Republic       666 Palm St\n",
      "18     Samuel   52       Athens          Greece    777 Cypress St\n",
      "19     Taylor   30       Lisbon        Portugal        888 Fir St\n",
      "20        Uma   36        Cairo           Egypt    999 Hemlock St\n",
      "21     Victor   43      Bangkok        Thailand   1110 Juniper St\n",
      "22      Wendy   25    Stockholm          Sweden                  \n",
      "23     Xavier   48     Brussels         Belgium     1312 Beech St\n",
      "24       Yara   23         Oslo          Norway  1413 Sycamore St\n",
      "25    Zachary   34       Warsaw          Poland   1514 Dogwood St\n",
      "26     Sophia   31     Budapest         Hungary   1615 Hickory St\n",
      "27      James   57       Dublin         Ireland    1716 Locust St\n",
      "28       Luna   20     Helsinki         Finland                  \n",
      "29      Ethan   44       Zurich     Switzerland     1918 Pecan St\n"
     ]
    }
   ],
   "source": [
    "print(df) # Display the DataFrame"
   ]
  },
  {
   "cell_type": "code",
   "execution_count": null,
   "id": "062f1177",
   "metadata": {},
   "outputs": [],
   "source": [
    "df.head() # Display the first few rows of the DataFrame"
   ]
  },
  {
   "cell_type": "code",
   "execution_count": null,
   "id": "5d928e03",
   "metadata": {},
   "outputs": [],
   "source": [
    "df.tail() # Display the last few rows of the DataFrame"
   ]
  },
  {
   "cell_type": "code",
   "execution_count": null,
   "id": "14c28501",
   "metadata": {},
   "outputs": [],
   "source": [
    "df.info() # Display summary information about the DataFrame"
   ]
  },
  {
   "cell_type": "code",
   "execution_count": null,
   "id": "130ec688",
   "metadata": {},
   "outputs": [],
   "source": [
    "df.describe() # Display statistical summary of numerical columns"
   ]
  },
  {
   "cell_type": "code",
   "execution_count": null,
   "id": "6e42c484",
   "metadata": {},
   "outputs": [],
   "source": [
    "df.columns # Display column names"
   ]
  },
  {
   "cell_type": "code",
   "execution_count": null,
   "id": "b8c81ce7",
   "metadata": {},
   "outputs": [],
   "source": [
    "df.index # Display index information"
   ]
  },
  {
   "cell_type": "code",
   "execution_count": null,
   "id": "ff824034",
   "metadata": {},
   "outputs": [],
   "source": [
    "df[\"country\"] = df[\"Country\"].str.lower() # Convert 'Country' column to lowercase and store in new 'country' column     \n",
    "print(df) # Display the updated DataFrame"
   ]
  },
  {
   "cell_type": "code",
   "execution_count": null,
   "id": "fdac6778",
   "metadata": {},
   "outputs": [],
   "source": [
    "df[\"Country\"] # Access and display the 'Country' column"
   ]
  },
  {
   "cell_type": "code",
   "execution_count": null,
   "id": "6d0fa623",
   "metadata": {},
   "outputs": [],
   "source": [
    "df[[\"City\", \"Country\"]] # Access and display multiple columns"
   ]
  },
  {
   "cell_type": "code",
   "execution_count": 32,
   "id": "c2759db5",
   "metadata": {},
   "outputs": [
    {
     "data": {
      "text/plain": [
       "3"
      ]
     },
     "execution_count": 32,
     "metadata": {},
     "output_type": "execute_result"
    }
   ],
   "source": [
    "len(df[\"Country\"]) # Display the number of entries in the 'Country' column"
   ]
  },
  {
   "cell_type": "code",
   "execution_count": null,
   "id": "9b98354e",
   "metadata": {},
   "outputs": [],
   "source": [
    "df.iloc[0] # Access the first row by index"
   ]
  },
  {
   "cell_type": "code",
   "execution_count": null,
   "id": "f9860bdb",
   "metadata": {},
   "outputs": [],
   "source": [
    "df.iloc[1][0]   # Access the first column of the second row"
   ]
  },
  {
   "cell_type": "code",
   "execution_count": null,
   "id": "05f68720",
   "metadata": {},
   "outputs": [],
   "source": [
    "df.iloc[1][\"City\"] # Access the 'City' column of the second row"
   ]
  },
  {
   "cell_type": "code",
   "execution_count": null,
   "id": "9e299d82",
   "metadata": {},
   "outputs": [],
   "source": [
    "list(df.iloc[2]) # Access the third row and convert to list"
   ]
  },
  {
   "cell_type": "code",
   "execution_count": null,
   "id": "28f2355e",
   "metadata": {},
   "outputs": [],
   "source": [
    "list(df.itertuples()) # Iterate over rows as namedtuples and convert to list"
   ]
  },
  {
   "cell_type": "code",
   "execution_count": null,
   "id": "796a5303",
   "metadata": {},
   "outputs": [],
   "source": [
    "df[df[\"Country\"] == \"USA\"] # Filter rows where 'Country' is 'USA'"
   ]
  },
  {
   "cell_type": "code",
   "execution_count": null,
   "id": "431188a2",
   "metadata": {},
   "outputs": [],
   "source": [
    "df[(df[\"Country\"] == \"USA\") & (df[\"Age\"] >= 45)] # Filter rows where 'Country' is 'USA' and 'Age' is 45 or older"
   ]
  },
  {
   "cell_type": "code",
   "execution_count": null,
   "id": "f77cd12a",
   "metadata": {},
   "outputs": [],
   "source": [
    "df[(df[\"Country\"] == \"USA\") | (df[\"Age\"] < 30)] # Filter rows where 'Country' is 'USA' or 'Age' is less than 30"
   ]
  },
  {
   "cell_type": "code",
   "execution_count": null,
   "id": "38590564",
   "metadata": {},
   "outputs": [],
   "source": [
    "df[(df[\"City\"].str.contains(\"o\") & df[\"Country\"].str.endswith(\"A\") & df[\"Name\"].str.startswith(\"C\"))] #"
   ]
  },
  {
   "cell_type": "code",
   "execution_count": null,
   "id": "acb271f5",
   "metadata": {},
   "outputs": [],
   "source": [
    "df[(df[\"City\"].str.contains(\"o\") & df[\"Country\"].isin([\"USA\", \"UK\", \"Thailand\"]))] # Filter rows where 'City' contains 'o' and 'Country' is either 'USA' or 'UK'"
   ]
  },
  {
   "cell_type": "code",
   "execution_count": null,
   "id": "357c39fd",
   "metadata": {},
   "outputs": [],
   "source": [
    "df[(df[\"City\"].str.contains(\"o\") & ~df[\"Country\"].isin([\"USA\", \"UK\", \"Thailand\"]))]"
   ]
  },
  {
   "cell_type": "code",
   "execution_count": null,
   "id": "41a620a7",
   "metadata": {},
   "outputs": [],
   "source": [
    "df.iloc[10] #Name       Katherine\n",
    "            # Age               33\n",
    "            # City       Singapore\n",
    "            # Country    Singapore\n",
    "            # Name: 10, dtype: object"
   ]
  },
  {
   "cell_type": "code",
   "execution_count": 92,
   "id": "44991297",
   "metadata": {},
   "outputs": [
    {
     "data": {
      "text/html": [
       "<div>\n",
       "<style scoped>\n",
       "    .dataframe tbody tr th:only-of-type {\n",
       "        vertical-align: middle;\n",
       "    }\n",
       "\n",
       "    .dataframe tbody tr th {\n",
       "        vertical-align: top;\n",
       "    }\n",
       "\n",
       "    .dataframe thead th {\n",
       "        text-align: right;\n",
       "    }\n",
       "</style>\n",
       "<table border=\"1\" class=\"dataframe\">\n",
       "  <thead>\n",
       "    <tr style=\"text-align: right;\">\n",
       "      <th></th>\n",
       "      <th>Name</th>\n",
       "      <th>Age</th>\n",
       "      <th>City</th>\n",
       "      <th>Country</th>\n",
       "    </tr>\n",
       "  </thead>\n",
       "  <tbody>\n",
       "    <tr>\n",
       "      <th>28</th>\n",
       "      <td>Luna</td>\n",
       "      <td>20</td>\n",
       "      <td>Helsinki</td>\n",
       "      <td>Canada</td>\n",
       "    </tr>\n",
       "  </tbody>\n",
       "</table>\n",
       "</div>"
      ],
      "text/plain": [
       "    Name  Age      City Country\n",
       "28  Luna   20  Helsinki  Canada"
      ]
     },
     "execution_count": 92,
     "metadata": {},
     "output_type": "execute_result"
    }
   ],
   "source": [
    "df.loc[df[\"Name\"] == \"Luna\"] #28\tLuna\t20\tHelsinki\tFinland"
   ]
  },
  {
   "cell_type": "code",
   "execution_count": 93,
   "id": "21e3ceee",
   "metadata": {},
   "outputs": [],
   "source": [
    "df.loc[df[\"Name\"] == \"Luna\", \"Country\"] = \"Canada\" # Get the record who's name is Luna, and change the Country to Canada"
   ]
  },
  {
   "cell_type": "code",
   "execution_count": null,
   "id": "d0bf75da",
   "metadata": {},
   "outputs": [],
   "source": [
    "df.loc[df[\"Country\"] == \"USA\", \"City\"] = \"New York\" # Get the Country filed, with value USA and change the city value to New York, for all of them"
   ]
  },
  {
   "cell_type": "code",
   "execution_count": null,
   "id": "fd4acbf0",
   "metadata": {},
   "outputs": [],
   "source": [
    "df.loc[df[\"Country\"] == \"USA\", \"Country\"] = \"United States\" # Get the Country filed, with value USA and change it to United States"
   ]
  },
  {
   "cell_type": "code",
   "execution_count": 100,
   "id": "bb79545a",
   "metadata": {},
   "outputs": [],
   "source": [
    "df[\"Country\"] = df[\"Country\"].str.upper() # Convert 'Country' column to uppercase"
   ]
  },
  {
   "cell_type": "code",
   "execution_count": 107,
   "id": "9ac584f7",
   "metadata": {},
   "outputs": [],
   "source": [
    "df.drop(columns=[\"Address\"], inplace=True) # Drop the 'Address' column"
   ]
  },
  {
   "cell_type": "code",
   "execution_count": null,
   "id": "cf25e50d",
   "metadata": {},
   "outputs": [],
   "source": [
    "df.drop(2) # Drop the row with index 2              #df.drop(2, inplace=True) # Drop the row with index 2"
   ]
  },
  {
   "cell_type": "code",
   "execution_count": null,
   "id": "cd6194b6",
   "metadata": {},
   "outputs": [],
   "source": [
    "df.dropna() # Drop rows with any missing values"
   ]
  },
  {
   "cell_type": "code",
   "execution_count": null,
   "id": "bc461096",
   "metadata": {},
   "outputs": [],
   "source": [
    "df.fillna(\"Unknown\", inplace=True) # Fill missing values with 'Unknown'"
   ]
  },
  {
   "cell_type": "code",
   "execution_count": 130,
   "id": "a40c5081",
   "metadata": {},
   "outputs": [],
   "source": [
    "df['Address'] = df['Address'].replace('', 'Unknown Address') "
   ]
  },
  {
   "cell_type": "code",
   "execution_count": 133,
   "id": "dfc4e638",
   "metadata": {},
   "outputs": [],
   "source": [
    "df.rename(columns={\"Address\": \"Permanent_Address\"}, inplace=True) # Rename 'Address' column to 'Permanent_Address'"
   ]
  },
  {
   "cell_type": "code",
   "execution_count": 154,
   "id": "499e0218",
   "metadata": {},
   "outputs": [],
   "source": [
    "df.rename(columns={\"Permanent_Address\": \"Permanent_Address2\"}, inplace=True) # Rename 'Permanent_Address' column to 'Permanent_Address2'"
   ]
  },
  {
   "cell_type": "code",
   "execution_count": null,
   "id": "5e1f05c0",
   "metadata": {},
   "outputs": [],
   "source": [
    "df[\"Country\"].value_counts() # Count occurrences of each unique value in 'Country' column"
   ]
  },
  {
   "cell_type": "code",
   "execution_count": null,
   "id": "604eb2ce",
   "metadata": {},
   "outputs": [],
   "source": [
    "df.groupby(\"Country\").size() # Group by 'Country' and count occurrences"
   ]
  }
 ],
 "metadata": {
  "kernelspec": {
   "display_name": "Python 3",
   "language": "python",
   "name": "python3"
  },
  "language_info": {
   "codemirror_mode": {
    "name": "ipython",
    "version": 3
   },
   "file_extension": ".py",
   "mimetype": "text/x-python",
   "name": "python",
   "nbconvert_exporter": "python",
   "pygments_lexer": "ipython3",
   "version": "3.13.7"
  }
 },
 "nbformat": 4,
 "nbformat_minor": 5
}
