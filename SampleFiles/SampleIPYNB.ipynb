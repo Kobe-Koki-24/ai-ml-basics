{
 "cells": [
  {
   "cell_type": "code",
   "execution_count": null,
   "id": "14def658",
   "metadata": {},
   "outputs": [],
   "source": [
    "import pandas as pd"
   ]
  },
  {
   "cell_type": "code",
   "execution_count": 53,
   "id": "19b7e0aa",
   "metadata": {},
   "outputs": [],
   "source": [
    "# Sample data creation, Dataframe creation\n",
    "datta = {\n",
    "    'Name': ['Alice', 'Bob', 'Charlie', 'David', 'Emma', 'Frank', 'Grace', 'Henry', 'Isabella', 'Jack',\n",
    "             'Katherine', 'Liam', 'Mia', 'Noah', 'Olivia', 'Peter', 'Quinn', 'Rachel', 'Samuel', 'Taylor',\n",
    "             'Uma', 'Victor', 'Wendy', 'Xavier', 'Yara', 'Zachary', 'Sophia', 'James', 'Luna', 'Ethan'],\n",
    "    'Age': [60, 50, 27, 45, 32, 29, 38, 55, 24, 41, \n",
    "            33, 26, 31, 28, 35, 47, 22, 39, 52, 30, \n",
    "            36, 43, 25, 48, 23, 34, 31, 57, 20, 44],\n",
    "    'City': ['New York', 'Los Angeles', 'Chicago', 'Houston', 'Miami', 'Tokyo', 'Sydney', 'Berlin', 'Rome', 'Dubai',\n",
    "             'Singapore', 'London', 'Manchester', 'Birmingham', 'Liverpool', 'Moscow', 'Vienna', 'Prague', 'Athens', 'Lisbon',\n",
    "             'Cairo', 'Bangkok', 'Stockholm', 'Brussels', 'Oslo', 'Warsaw', 'Budapest', 'Dublin', 'Helsinki', 'Zurich'],\n",
    "    'Country': ['USA', 'USA', 'USA', 'USA', 'USA', 'Japan', 'Australia', 'Germany', 'Italy', 'UAE',\n",
    "                'Singapore', 'UK', 'UK', 'UK', 'UK', 'Russia', 'Austria', 'Czech Republic', 'Greece', 'Portugal',\n",
    "                'Egypt', 'Thailand', 'Sweden', 'Belgium', 'Norway', 'Poland', 'Hungary', 'Ireland', 'Finland', 'Switzerland']\n",
    "}"
   ]
  },
  {
   "cell_type": "code",
   "execution_count": 54,
   "id": "138733d2",
   "metadata": {},
   "outputs": [],
   "source": [
    "df = pd.DataFrame(datta) # DataFrame creation"
   ]
  },
  {
   "cell_type": "code",
   "execution_count": 51,
   "id": "5858edc1",
   "metadata": {},
   "outputs": [
    {
     "name": "stdout",
     "output_type": "stream",
     "text": [
      "      Name  Age         City   Country\n",
      "0    Alice   60     New York       USA\n",
      "1      Bob   50      Ontario    Canada\n",
      "2  Charlie   27  Addis Ababa  Ethiopia\n"
     ]
    }
   ],
   "source": [
    "print(df) # Display the DataFrame"
   ]
  },
  {
   "cell_type": "code",
   "execution_count": null,
   "id": "062f1177",
   "metadata": {},
   "outputs": [],
   "source": [
    "df.head() # Display the first few rows of the DataFrame"
   ]
  },
  {
   "cell_type": "code",
   "execution_count": null,
   "id": "5d928e03",
   "metadata": {},
   "outputs": [],
   "source": [
    "df.tail() # Display the last few rows of the DataFrame"
   ]
  },
  {
   "cell_type": "code",
   "execution_count": null,
   "id": "14c28501",
   "metadata": {},
   "outputs": [],
   "source": [
    "df.info() # Display summary information about the DataFrame"
   ]
  },
  {
   "cell_type": "code",
   "execution_count": null,
   "id": "130ec688",
   "metadata": {},
   "outputs": [],
   "source": [
    "df.describe() # Display statistical summary of numerical columns"
   ]
  },
  {
   "cell_type": "code",
   "execution_count": null,
   "id": "6e42c484",
   "metadata": {},
   "outputs": [],
   "source": [
    "df.columns # Display column names"
   ]
  },
  {
   "cell_type": "code",
   "execution_count": null,
   "id": "b8c81ce7",
   "metadata": {},
   "outputs": [],
   "source": [
    "df.index # Display index information"
   ]
  },
  {
   "cell_type": "code",
   "execution_count": null,
   "id": "ff824034",
   "metadata": {},
   "outputs": [],
   "source": [
    "df[\"country\"] = df[\"Country\"].str.lower() # Convert 'Country' column to lowercase and store in new 'country' column     \n",
    "print(df) # Display the updated DataFrame"
   ]
  },
  {
   "cell_type": "code",
   "execution_count": null,
   "id": "fdac6778",
   "metadata": {},
   "outputs": [],
   "source": [
    "df[\"Country\"] # Access and display the 'Country' column"
   ]
  },
  {
   "cell_type": "code",
   "execution_count": null,
   "id": "6d0fa623",
   "metadata": {},
   "outputs": [],
   "source": [
    "df[[\"City\", \"Country\"]] # Access and display multiple columns"
   ]
  },
  {
   "cell_type": "code",
   "execution_count": 32,
   "id": "c2759db5",
   "metadata": {},
   "outputs": [
    {
     "data": {
      "text/plain": [
       "3"
      ]
     },
     "execution_count": 32,
     "metadata": {},
     "output_type": "execute_result"
    }
   ],
   "source": [
    "len(df[\"Country\"]) # Display the number of entries in the 'Country' column"
   ]
  },
  {
   "cell_type": "code",
   "execution_count": null,
   "id": "9b98354e",
   "metadata": {},
   "outputs": [],
   "source": [
    "df.iloc[0] # Access the first row by index"
   ]
  },
  {
   "cell_type": "code",
   "execution_count": null,
   "id": "f9860bdb",
   "metadata": {},
   "outputs": [],
   "source": [
    "df.iloc[1][0]   # Access the first column of the second row"
   ]
  },
  {
   "cell_type": "code",
   "execution_count": null,
   "id": "05f68720",
   "metadata": {},
   "outputs": [],
   "source": [
    "df.iloc[1][\"City\"] # Access the 'City' column of the second row"
   ]
  },
  {
   "cell_type": "code",
   "execution_count": null,
   "id": "9e299d82",
   "metadata": {},
   "outputs": [],
   "source": [
    "list(df.iloc[2]) # Access the third row and convert to list"
   ]
  },
  {
   "cell_type": "code",
   "execution_count": null,
   "id": "28f2355e",
   "metadata": {},
   "outputs": [],
   "source": [
    "list(df.itertuples()) # Iterate over rows as namedtuples and convert to list"
   ]
  },
  {
   "cell_type": "code",
   "execution_count": 66,
   "id": "796a5303",
   "metadata": {},
   "outputs": [
    {
     "data": {
      "text/html": [
       "<div>\n",
       "<style scoped>\n",
       "    .dataframe tbody tr th:only-of-type {\n",
       "        vertical-align: middle;\n",
       "    }\n",
       "\n",
       "    .dataframe tbody tr th {\n",
       "        vertical-align: top;\n",
       "    }\n",
       "\n",
       "    .dataframe thead th {\n",
       "        text-align: right;\n",
       "    }\n",
       "</style>\n",
       "<table border=\"1\" class=\"dataframe\">\n",
       "  <thead>\n",
       "    <tr style=\"text-align: right;\">\n",
       "      <th></th>\n",
       "      <th>Name</th>\n",
       "      <th>Age</th>\n",
       "      <th>City</th>\n",
       "      <th>Country</th>\n",
       "    </tr>\n",
       "  </thead>\n",
       "  <tbody>\n",
       "    <tr>\n",
       "      <th>0</th>\n",
       "      <td>Alice</td>\n",
       "      <td>60</td>\n",
       "      <td>New York</td>\n",
       "      <td>USA</td>\n",
       "    </tr>\n",
       "    <tr>\n",
       "      <th>1</th>\n",
       "      <td>Bob</td>\n",
       "      <td>50</td>\n",
       "      <td>Los Angeles</td>\n",
       "      <td>USA</td>\n",
       "    </tr>\n",
       "    <tr>\n",
       "      <th>2</th>\n",
       "      <td>Charlie</td>\n",
       "      <td>27</td>\n",
       "      <td>Chicago</td>\n",
       "      <td>USA</td>\n",
       "    </tr>\n",
       "    <tr>\n",
       "      <th>3</th>\n",
       "      <td>David</td>\n",
       "      <td>45</td>\n",
       "      <td>Houston</td>\n",
       "      <td>USA</td>\n",
       "    </tr>\n",
       "    <tr>\n",
       "      <th>4</th>\n",
       "      <td>Emma</td>\n",
       "      <td>32</td>\n",
       "      <td>Miami</td>\n",
       "      <td>USA</td>\n",
       "    </tr>\n",
       "  </tbody>\n",
       "</table>\n",
       "</div>"
      ],
      "text/plain": [
       "      Name  Age         City Country\n",
       "0    Alice   60     New York     USA\n",
       "1      Bob   50  Los Angeles     USA\n",
       "2  Charlie   27      Chicago     USA\n",
       "3    David   45      Houston     USA\n",
       "4     Emma   32        Miami     USA"
      ]
     },
     "execution_count": 66,
     "metadata": {},
     "output_type": "execute_result"
    }
   ],
   "source": [
    "df[df[\"Country\"] == \"USA\"] # Filter rows where 'Country' is 'USA'"
   ]
  },
  {
   "cell_type": "code",
   "execution_count": null,
   "id": "431188a2",
   "metadata": {},
   "outputs": [],
   "source": [
    "df[(df[\"Country\"] == \"USA\") & (df[\"Age\"] >= 45)] # Filter rows where 'Country' is 'USA' and 'Age' is 45 or older"
   ]
  },
  {
   "cell_type": "code",
   "execution_count": 67,
   "id": "f77cd12a",
   "metadata": {},
   "outputs": [
    {
     "data": {
      "text/html": [
       "<div>\n",
       "<style scoped>\n",
       "    .dataframe tbody tr th:only-of-type {\n",
       "        vertical-align: middle;\n",
       "    }\n",
       "\n",
       "    .dataframe tbody tr th {\n",
       "        vertical-align: top;\n",
       "    }\n",
       "\n",
       "    .dataframe thead th {\n",
       "        text-align: right;\n",
       "    }\n",
       "</style>\n",
       "<table border=\"1\" class=\"dataframe\">\n",
       "  <thead>\n",
       "    <tr style=\"text-align: right;\">\n",
       "      <th></th>\n",
       "      <th>Name</th>\n",
       "      <th>Age</th>\n",
       "      <th>City</th>\n",
       "      <th>Country</th>\n",
       "    </tr>\n",
       "  </thead>\n",
       "  <tbody>\n",
       "    <tr>\n",
       "      <th>0</th>\n",
       "      <td>Alice</td>\n",
       "      <td>60</td>\n",
       "      <td>New York</td>\n",
       "      <td>USA</td>\n",
       "    </tr>\n",
       "    <tr>\n",
       "      <th>1</th>\n",
       "      <td>Bob</td>\n",
       "      <td>50</td>\n",
       "      <td>Los Angeles</td>\n",
       "      <td>USA</td>\n",
       "    </tr>\n",
       "    <tr>\n",
       "      <th>2</th>\n",
       "      <td>Charlie</td>\n",
       "      <td>27</td>\n",
       "      <td>Chicago</td>\n",
       "      <td>USA</td>\n",
       "    </tr>\n",
       "    <tr>\n",
       "      <th>3</th>\n",
       "      <td>David</td>\n",
       "      <td>45</td>\n",
       "      <td>Houston</td>\n",
       "      <td>USA</td>\n",
       "    </tr>\n",
       "    <tr>\n",
       "      <th>4</th>\n",
       "      <td>Emma</td>\n",
       "      <td>32</td>\n",
       "      <td>Miami</td>\n",
       "      <td>USA</td>\n",
       "    </tr>\n",
       "    <tr>\n",
       "      <th>5</th>\n",
       "      <td>Frank</td>\n",
       "      <td>29</td>\n",
       "      <td>Tokyo</td>\n",
       "      <td>Japan</td>\n",
       "    </tr>\n",
       "    <tr>\n",
       "      <th>8</th>\n",
       "      <td>Isabella</td>\n",
       "      <td>24</td>\n",
       "      <td>Rome</td>\n",
       "      <td>Italy</td>\n",
       "    </tr>\n",
       "    <tr>\n",
       "      <th>11</th>\n",
       "      <td>Liam</td>\n",
       "      <td>26</td>\n",
       "      <td>London</td>\n",
       "      <td>UK</td>\n",
       "    </tr>\n",
       "    <tr>\n",
       "      <th>13</th>\n",
       "      <td>Noah</td>\n",
       "      <td>28</td>\n",
       "      <td>Birmingham</td>\n",
       "      <td>UK</td>\n",
       "    </tr>\n",
       "    <tr>\n",
       "      <th>16</th>\n",
       "      <td>Quinn</td>\n",
       "      <td>22</td>\n",
       "      <td>Vienna</td>\n",
       "      <td>Austria</td>\n",
       "    </tr>\n",
       "    <tr>\n",
       "      <th>22</th>\n",
       "      <td>Wendy</td>\n",
       "      <td>25</td>\n",
       "      <td>Stockholm</td>\n",
       "      <td>Sweden</td>\n",
       "    </tr>\n",
       "    <tr>\n",
       "      <th>24</th>\n",
       "      <td>Yara</td>\n",
       "      <td>23</td>\n",
       "      <td>Oslo</td>\n",
       "      <td>Norway</td>\n",
       "    </tr>\n",
       "    <tr>\n",
       "      <th>28</th>\n",
       "      <td>Luna</td>\n",
       "      <td>20</td>\n",
       "      <td>Helsinki</td>\n",
       "      <td>Finland</td>\n",
       "    </tr>\n",
       "  </tbody>\n",
       "</table>\n",
       "</div>"
      ],
      "text/plain": [
       "        Name  Age         City  Country\n",
       "0      Alice   60     New York      USA\n",
       "1        Bob   50  Los Angeles      USA\n",
       "2    Charlie   27      Chicago      USA\n",
       "3      David   45      Houston      USA\n",
       "4       Emma   32        Miami      USA\n",
       "5      Frank   29        Tokyo    Japan\n",
       "8   Isabella   24         Rome    Italy\n",
       "11      Liam   26       London       UK\n",
       "13      Noah   28   Birmingham       UK\n",
       "16     Quinn   22       Vienna  Austria\n",
       "22     Wendy   25    Stockholm   Sweden\n",
       "24      Yara   23         Oslo   Norway\n",
       "28      Luna   20     Helsinki  Finland"
      ]
     },
     "execution_count": 67,
     "metadata": {},
     "output_type": "execute_result"
    }
   ],
   "source": [
    "df[(df[\"Country\"] == \"USA\") | (df[\"Age\"] < 30)] # Filter rows where 'Country' is 'USA' or 'Age' is less than 30"
   ]
  }
 ],
 "metadata": {
  "kernelspec": {
   "display_name": "Python 3",
   "language": "python",
   "name": "python3"
  },
  "language_info": {
   "codemirror_mode": {
    "name": "ipython",
    "version": 3
   },
   "file_extension": ".py",
   "mimetype": "text/x-python",
   "name": "python",
   "nbconvert_exporter": "python",
   "pygments_lexer": "ipython3",
   "version": "3.13.7"
  }
 },
 "nbformat": 4,
 "nbformat_minor": 5
}
