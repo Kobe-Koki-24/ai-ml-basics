{
 "cells": [
  {
   "cell_type": "code",
   "execution_count": 31,
   "id": "a1f44c32",
   "metadata": {},
   "outputs": [],
   "source": [
    "from sklearn.datasets import load_iris\n",
    "from sklearn.model_selection import train_test_split"
   ]
  },
  {
   "cell_type": "code",
   "execution_count": 32,
   "id": "1af68237",
   "metadata": {},
   "outputs": [],
   "source": [
    "X, y = load_iris(return_X_y=True)"
   ]
  },
  {
   "cell_type": "code",
   "execution_count": 33,
   "id": "15892057",
   "metadata": {},
   "outputs": [],
   "source": [
    "data = load_iris()\n",
    "\n",
    "X, y = data.data, data.target"
   ]
  },
  {
   "cell_type": "code",
   "execution_count": null,
   "id": "68250d0d",
   "metadata": {},
   "outputs": [],
   "source": [
    "X"
   ]
  },
  {
   "cell_type": "code",
   "execution_count": null,
   "id": "db4624e6",
   "metadata": {},
   "outputs": [],
   "source": [
    "y"
   ]
  },
  {
   "cell_type": "code",
   "execution_count": 34,
   "id": "f3a718cc",
   "metadata": {},
   "outputs": [],
   "source": [
    "X_train, X_test, y_train, y_test = train_test_split(X, y, test_size=0.2, random_state=42) # Splits data into training and testing sets"
   ]
  },
  {
   "cell_type": "code",
   "execution_count": null,
   "id": "a0ec0702",
   "metadata": {},
   "outputs": [],
   "source": [
    "len(X_train), len(X_test)"
   ]
  },
  {
   "cell_type": "code",
   "execution_count": null,
   "id": "b5239109",
   "metadata": {},
   "outputs": [],
   "source": [
    "len(y_train), len(y_test)"
   ]
  },
  {
   "cell_type": "code",
   "execution_count": 35,
   "id": "b3fae2cc",
   "metadata": {},
   "outputs": [],
   "source": [
    "import numpy as np\n",
    "import matplotlib.pyplot as plt"
   ]
  },
  {
   "cell_type": "code",
   "execution_count": null,
   "id": "85752b6e",
   "metadata": {},
   "outputs": [],
   "source": [
    "counts = np.bincount(y_train)\n",
    "positions = np.arange(len(counts))\n",
    "\n",
    "plt.bar(positions, counts, align='center', alpha=0.7)\n",
    "plt.xticks(positions, data.target_names)"
   ]
  },
  {
   "cell_type": "code",
   "execution_count": null,
   "id": "dd96928f",
   "metadata": {},
   "outputs": [],
   "source": [
    "counts = np.bincount(y_test)\n",
    "positions = np.arange(len(counts))\n",
    "\n",
    "plt.bar(positions, counts, align='center', alpha=0.7)\n",
    "plt.xticks(positions, data.target_names)"
   ]
  },
  {
   "cell_type": "code",
   "execution_count": 41,
   "id": "413b8965",
   "metadata": {},
   "outputs": [],
   "source": [
    "from sklearn.model_selection import StratifiedShuffleSplit\n",
    "\n",
    "split = StratifiedShuffleSplit(n_splits=1, test_size=0.2, random_state=42)\n",
    "\n",
    "for train_index, test_index in split.split(X, y):\n",
    "    X_train = X[train_index]\n",
    "    X_test = X[test_index]\n",
    "    y_train = y[train_index]\n",
    "    y_test = y[test_index]"
   ]
  },
  {
   "cell_type": "code",
   "execution_count": null,
   "id": "eb4f39a6",
   "metadata": {},
   "outputs": [],
   "source": [
    "counts = np.bincount(y_train)\n",
    "positions = np.arange(len(counts))\n",
    "\n",
    "plt.bar(positions, counts, align='center', alpha=0.7)\n",
    "plt.xticks(positions, data.target_names)"
   ]
  },
  {
   "cell_type": "code",
   "execution_count": null,
   "id": "5ba6c757",
   "metadata": {},
   "outputs": [],
   "source": [
    "counts = np.bincount(y_test)\n",
    "positions = np.arange(len(counts))\n",
    "\n",
    "plt.bar(positions, counts, align='center', alpha=0.7)\n",
    "plt.xticks(positions, data.target_names)"
   ]
  }
 ],
 "metadata": {
  "kernelspec": {
   "display_name": "Scikit Learn Kernel",
   "language": "python",
   "name": "scikit_learn_kernel"
  },
  "language_info": {
   "codemirror_mode": {
    "name": "ipython",
    "version": 3
   },
   "file_extension": ".py",
   "mimetype": "text/x-python",
   "name": "python",
   "nbconvert_exporter": "python",
   "pygments_lexer": "ipython3",
   "version": "3.13.7"
  }
 },
 "nbformat": 4,
 "nbformat_minor": 5
}
