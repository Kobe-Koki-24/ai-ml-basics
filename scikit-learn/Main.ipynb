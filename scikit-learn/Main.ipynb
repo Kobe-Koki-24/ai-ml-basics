{
 "cells": [
  {
   "cell_type": "code",
   "execution_count": null,
   "id": "5bfd8aff",
   "metadata": {
    "vscode": {
     "languageId": "plaintext"
    }
   },
   "outputs": [],
   "source": [
    "from sklearn.datasets import load_breast_cancer #\n",
    "from sklearn.model_selection import train_test_split"
   ]
  }
 ],
 "metadata": {
  "language_info": {
   "name": "python"
  }
 },
 "nbformat": 4,
 "nbformat_minor": 5
}
